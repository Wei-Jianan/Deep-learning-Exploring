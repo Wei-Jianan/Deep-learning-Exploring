{
 "cells": [
  {
   "cell_type": "code",
   "execution_count": null,
   "metadata": {},
   "outputs": [],
   "source": [
    "import random\n",
    "import mxnet.ndarray as nd\n",
    "from mxnet import autograd as ag"
   ]
  },
  {
   "cell_type": "code",
   "execution_count": null,
   "metadata": {},
   "outputs": [],
   "source": [
    "N = 2\n",
    "M = 100000\n",
    "\n",
    "real_w = nd.array([2, -3.4])\n",
    "real_b = nd.array([4.2]).asscalar()\n",
    "\n",
    "X = nd.random_normal(shape=(M, N))\n",
    "\n",
    "y = nd.add(nd.dot(X, real_w), real_b)\n",
    "nd.broadcast_add(y, nd.random_normal(scale=0.1, shape=y.shape), out=y)"
   ]
  },
  {
   "cell_type": "code",
   "execution_count": null,
   "metadata": {},
   "outputs": [],
   "source": [
    "import matplotlib.pyplot as plt\n",
    "plt.scatter(X[:, 1].asnumpy(), y.asnumpy())\n",
    "plt.show()\n",
    "plt.plot"
   ]
  },
  {
   "cell_type": "code",
   "execution_count": null,
   "metadata": {},
   "outputs": [],
   "source": [
    "def data_grabber(X, y, batch_size = 10):\n",
    "    idx = list(range(y.size))\n",
    "    random.shuffle(idx)\n",
    "    for _from in range(0, y.size, batch_size):\n",
    "        _to = min(_from + batch_size, y.size)\n",
    "        yield X[_from:_to, :], y[_from:_to]\n",
    "        \n",
    "        "
   ]
  },
  {
   "cell_type": "code",
   "execution_count": null,
   "metadata": {},
   "outputs": [],
   "source": [
    "w = nd.random_normal(shape=(real_w.shape))\n",
    "b = nd.zeros((1,))\n",
    "params = [w, b]\n",
    "\n",
    "for param in params:\n",
    "    param.attach_grad()"
   ]
  },
  {
   "cell_type": "code",
   "execution_count": null,
   "metadata": {},
   "outputs": [],
   "source": [
    "def net(X):\n",
    "    _y = nd.add(nd.dot(X, w),\n",
    "               b)\n",
    "    return _y"
   ]
  },
  {
   "cell_type": "code",
   "execution_count": null,
   "metadata": {},
   "outputs": [],
   "source": [
    "def loss_square(y_hat, y):\n",
    "    _loss = nd.square(y_hat,\n",
    "                     y)\n",
    "    return _loss"
   ]
  },
  {
   "cell_type": "code",
   "execution_count": null,
   "metadata": {},
   "outputs": [],
   "source": [
    "def SGD(params, lr):\n",
    "    for param in params:\n",
    "        param[:] = param - lr * param.grad"
   ]
  },
  {
   "cell_type": "code",
   "execution_count": null,
   "metadata": {},
   "outputs": [],
   "source": [
    "def real_fn(X):\n",
    "    return real_w[0] * X[:, 0] + real_w[1] * X[:, 1] + real_b\n",
    "def plot(losses, X, sample_size=100):\n",
    "    xs = list(range(len(losses)))\n",
    "    f, (fg1, fg2) = plt.subplots(1, 2)\n",
    "    fg1.set_title('Loss during training')\n",
    "    fg1.plot(xs, losses, '-r')\n",
    "    fg2.set_title('Estimated vs real function')\n",
    "    fg2.plot(X[:sample_size, 1].asnumpy(),\n",
    "             net(X[:sample_size, :]).asnumpy(), 'or', label='Estimated')\n",
    "    fg2.plot(X[:sample_size, 1].asnumpy(),\n",
    "             real_fn(X[:sample_size, :]).asnumpy(), '*g', label='Real')\n",
    "    fg2.legend()\n",
    "    plt.show()\n",
    "\n",
    "\n"
   ]
  },
  {
   "cell_type": "code",
   "execution_count": null,
   "metadata": {},
   "outputs": [],
   "source": [
    "\n",
    "epochs = 5\n",
    "learning_rate = .001\n",
    "niter = 0\n",
    "losses = []\n",
    "moving_loss = 0\n",
    "smoothing_constant = .01\n",
    "\n",
    "# \n",
    "for e in range(epochs):\n",
    "    total_loss = 0\n",
    "\n",
    "    for data, label in data_grabber(X, y, batch_size=100):\n",
    "        with ag.record():\n",
    "            output = net(data)\n",
    "            loss = loss_square(output, label)\n",
    "        loss.backward()\n",
    "        SGD(params, learning_rate)\n",
    "        total_loss += nd.sum(loss).asscalar()\n",
    "\n",
    "        niter +=1\n",
    "        curr_loss = nd.mean(loss).asscalar()\n",
    "        moving_loss = (1 - smoothing_constant) * moving_loss + (smoothing_constant) * curr_loss\n",
    "\n",
    "        # correct the bias from the moving averages\n",
    "        est_loss = moving_loss/(1-(1-smoothing_constant)**niter)\n",
    "\n",
    "        if (niter + 1) % 100 == 0:\n",
    "            losses.append(est_loss)\n",
    "            print(\"Epoch %s, batch %s. Moving avg of loss: %s. Average loss: %f\" % (e, niter, est_loss, total_loss/M))\n",
    "            plot(losses, X)"
   ]
  },
  {
   "cell_type": "code",
   "execution_count": null,
   "metadata": {},
   "outputs": [],
   "source": []
  }
 ],
 "metadata": {
  "celltoolbar": "Raw Cell Format",
  "kernelspec": {
   "display_name": "Python 3",
   "language": "python",
   "name": "python3"
  },
  "language_info": {
   "codemirror_mode": {
    "name": "ipython",
    "version": 3
   },
   "file_extension": ".py",
   "mimetype": "text/x-python",
   "name": "python",
   "nbconvert_exporter": "python",
   "pygments_lexer": "ipython3",
   "version": "3.6.5"
  }
 },
 "nbformat": 4,
 "nbformat_minor": 2
}
