{
 "cells": [
  {
   "cell_type": "code",
   "execution_count": 1,
   "metadata": {
    "ExecuteTime": {
     "end_time": "2018-05-29T16:23:37.539064Z",
     "start_time": "2018-05-29T16:23:35.506160Z"
    }
   },
   "outputs": [],
   "source": [
    "from mxnet import nd, gluon\n",
    "from mxnet import autograd as ag\n",
    "import mxnet as mx\n",
    "import utils\n",
    "\n",
    "ctx = utils.try_gpu()"
   ]
  },
  {
   "cell_type": "code",
   "execution_count": 2,
   "metadata": {
    "ExecuteTime": {
     "end_time": "2018-05-29T16:23:38.062908Z",
     "start_time": "2018-05-29T16:23:37.541033Z"
    }
   },
   "outputs": [
    {
     "data": {
      "text/plain": [
       "784"
      ]
     },
     "execution_count": 2,
     "metadata": {},
     "output_type": "execute_result"
    }
   ],
   "source": [
    "batch_size = 256\n",
    "epochs = 100\n",
    "learning_rate =0.5\n",
    "train_data, test_data = utils.load_data_fashion_mnist(batch_size)\n",
    "28 * 28"
   ]
  },
  {
   "cell_type": "code",
   "execution_count": 3,
   "metadata": {
    "ExecuteTime": {
     "end_time": "2018-05-29T16:25:40.370088Z",
     "start_time": "2018-05-29T16:25:40.360335Z"
    }
   },
   "outputs": [],
   "source": [
    "num_inputs = 28 * 28\n",
    "num_hidden_1 = 256 \n",
    "\n",
    "num_outputs = 10\n",
    "weight_scale = 0.01\n",
    "\n",
    "# W1 = nd.random_normal(scale=weight_scale, shape=(num_inputs,num_hidden_1),ctx=ctx)\n",
    "# b1 = nd.random_normal(scale=weight_scale, shape=num_hidden_1, ctx=ctx)\n",
    "\n",
    "# W2 = nd.random_normal(scale=weight_scale, shape=(num_hidden_1, num_hidden_1),ctx=ctx)\n",
    "# b2 = nd.random_normal(scale=weight_scale, shape=num_hidden_1, ctx=ctx)\n",
    "\n",
    "# W3 = nd.random_normal(scale=weight_scale, shape=(num_hidden_1, num_hidden_1),ctx=ctx)\n",
    "# b3 = nd.random_normal(scale=weight_scale, shape=num_hidden_1, ctx=ctx)\n",
    "\n",
    "# W4 = nd.random_normal(scale=weight_scale, shape=(num_hidden_1, num_outputs),ctx=ctx)\n",
    "# b4 = nd.random_normal(scale=weight_scale, shape=num_outputs, ctx=ctx)\n",
    "\n",
    "W1 = nd.zeros( shape=(num_inputs,num_hidden_1),ctx=ctx)\n",
    "b1 = nd.zeros(shape=num_hidden_1, ctx=ctx)\n",
    "\n",
    "W2 = nd.zeros(shape=(num_hidden_1, num_hidden_1),ctx=ctx)\n",
    "b2 = nd.zeros( shape=num_hidden_1, ctx=ctx)\n",
    "\n",
    "W3 = nd.zeros( shape=(num_hidden_1, num_hidden_1),ctx=ctx)\n",
    "b3 =nd.zeros( shape=num_hidden_1, ctx=ctx)\n",
    "\n",
    "W4 = nd.zeros( shape=(num_hidden_1, num_outputs),ctx=ctx)\n",
    "b4 = nd.zeros( shape=num_outputs, ctx=ctx)\n",
    "\n",
    "\n",
    "\n",
    "params = [W1, b1, W2, b2,W3, b3,W4,b4]\n",
    "for param in params:\n",
    "    param.attach_grad()"
   ]
  },
  {
   "cell_type": "code",
   "execution_count": 4,
   "metadata": {
    "ExecuteTime": {
     "end_time": "2018-05-29T16:25:41.081631Z",
     "start_time": "2018-05-29T16:25:41.076135Z"
    }
   },
   "outputs": [
    {
     "data": {
      "text/plain": [
       "\n",
       "[[0. 0. 0. ... 0. 0. 0.]\n",
       " [0. 0. 0. ... 0. 0. 0.]\n",
       " [0. 0. 0. ... 0. 0. 0.]\n",
       " ...\n",
       " [0. 0. 0. ... 0. 0. 0.]\n",
       " [0. 0. 0. ... 0. 0. 0.]\n",
       " [0. 0. 0. ... 0. 0. 0.]]\n",
       "<NDArray 784x256 @cpu(0)>"
      ]
     },
     "execution_count": 4,
     "metadata": {},
     "output_type": "execute_result"
    }
   ],
   "source": [
    "W1"
   ]
  },
  {
   "cell_type": "code",
   "execution_count": null,
   "metadata": {},
   "outputs": [],
   "source": []
  },
  {
   "cell_type": "code",
   "execution_count": 5,
   "metadata": {
    "ExecuteTime": {
     "end_time": "2018-05-29T16:25:43.734843Z",
     "start_time": "2018-05-29T16:25:43.731060Z"
    }
   },
   "outputs": [],
   "source": [
    "def relu(yhat):\n",
    "    return nd.maximum(yhat, 0)\n",
    "\n",
    "def net(X):\n",
    "    X = X.reshape((-1, num_inputs))\n",
    "    h1 = relu(nd.dot(X, W1) + b1)\n",
    "    h2 = relu(nd.dot(h1, W2) + b2)\n",
    "    h3 = relu(nd.dot(h2, W3) + b3)\n",
    "    output = nd.dot(h3, W4) + b4\n",
    "    return output "
   ]
  },
  {
   "cell_type": "code",
   "execution_count": 6,
   "metadata": {
    "ExecuteTime": {
     "end_time": "2018-05-29T16:25:45.316392Z",
     "start_time": "2018-05-29T16:25:45.313886Z"
    }
   },
   "outputs": [],
   "source": [
    "# X, y = next(iter(train_data))\n",
    "# net(X)\n"
   ]
  },
  {
   "cell_type": "code",
   "execution_count": 7,
   "metadata": {
    "ExecuteTime": {
     "end_time": "2018-05-29T16:25:45.620701Z",
     "start_time": "2018-05-29T16:25:45.618549Z"
    }
   },
   "outputs": [],
   "source": [
    "# train_data"
   ]
  },
  {
   "cell_type": "code",
   "execution_count": 8,
   "metadata": {
    "ExecuteTime": {
     "end_time": "2018-05-29T16:25:46.013116Z",
     "start_time": "2018-05-29T16:25:46.010495Z"
    }
   },
   "outputs": [],
   "source": [
    "loss_SM_CE = gluon.loss.SoftmaxCELoss()\n"
   ]
  },
  {
   "cell_type": "code",
   "execution_count": null,
   "metadata": {
    "ExecuteTime": {
     "start_time": "2018-05-29T16:27:16.886Z"
    }
   },
   "outputs": [
    {
     "name": "stdout",
     "output_type": "stream",
     "text": [
      "Epoch 0. Loss: 2.303096, Train acc 0.100177, Test acc 0.100060\n",
      "Epoch 1. Loss: 2.303121, Train acc 0.098558, Test acc 0.100160\n",
      "Epoch 2. Loss: 2.303172, Train acc 0.099025, Test acc 0.100060\n",
      "Epoch 3. Loss: 2.303118, Train acc 0.097489, Test acc 0.100060\n",
      "Epoch 4. Loss: 2.303156, Train acc 0.098190, Test acc 0.099960\n",
      "Epoch 5. Loss: 2.303068, Train acc 0.100010, Test acc 0.099860\n",
      "Epoch 6. Loss: 2.303116, Train acc 0.100010, Test acc 0.099760\n",
      "Epoch 7. Loss: 2.303070, Train acc 0.099326, Test acc 0.100060\n",
      "Epoch 8. Loss: 2.303064, Train acc 0.100210, Test acc 0.099960\n",
      "Epoch 9. Loss: 2.303097, Train acc 0.100277, Test acc 0.100160\n",
      "Epoch 10. Loss: 2.303163, Train acc 0.099075, Test acc 0.099860\n",
      "Epoch 11. Loss: 2.303076, Train acc 0.099192, Test acc 0.099760\n",
      "Epoch 12. Loss: 2.303133, Train acc 0.099359, Test acc 0.099960\n",
      "Epoch 13. Loss: 2.303164, Train acc 0.100361, Test acc 0.100060\n"
     ]
    }
   ],
   "source": [
    "for e in range(epochs):\n",
    "    training_loss = 0\n",
    "    training_acc = 0\n",
    "    for datas, labels in train_data:\n",
    "        X = datas.as_in_context(ctx)\n",
    "        y = labels.as_in_context(ctx)\n",
    "        with ag.record():\n",
    "            output = net(X)\n",
    "            loss = loss_SM_CE(output, y)\n",
    "        loss.backward()\n",
    "        utils.SGD(params, learning_rate / batch_size)\n",
    "        training_loss += nd.mean(loss).asscalar()\n",
    "        training_acc += utils.accuracy(output, y)\n",
    "        \n",
    "#         print(W1)\n",
    "        \n",
    "    test_acc = utils.evaluate_accuracy(test_data, net)\n",
    "    print(\"Epoch %d. Loss: %f, Train acc %f, Test acc %f\" % (\n",
    "        e, training_loss/len(train_data),\n",
    "        training_acc/len(train_data), test_acc))\n",
    "        "
   ]
  },
  {
   "cell_type": "code",
   "execution_count": 22,
   "metadata": {
    "ExecuteTime": {
     "end_time": "2018-05-29T16:30:27.310074Z",
     "start_time": "2018-05-29T16:30:27.299290Z"
    }
   },
   "outputs": [
    {
     "data": {
      "text/plain": [
       "\n",
       "[  8.56794     -0.26947534  -5.4823885   -3.1695693    7.8765903\n",
       "   1.8707919  -10.519379    -1.5164168   -2.9589605    5.6008353 ]\n",
       "<NDArray 10 @cpu(0)>"
      ]
     },
     "execution_count": 22,
     "metadata": {},
     "output_type": "execute_result"
    }
   ],
   "source": [
    "b4.grad"
   ]
  },
  {
   "cell_type": "code",
   "execution_count": 24,
   "metadata": {
    "ExecuteTime": {
     "end_time": "2018-05-29T16:30:31.147337Z",
     "start_time": "2018-05-29T16:30:31.143367Z"
    }
   },
   "outputs": [
    {
     "data": {
      "text/plain": [
       "\n",
       "[-0.01759114  0.00600835  0.00788074  0.01554782 -0.04365265 -0.03215576\n",
       "  0.05476282 -0.04123136  0.06093884 -0.01051008]\n",
       "<NDArray 10 @cpu(0)>"
      ]
     },
     "execution_count": 24,
     "metadata": {},
     "output_type": "execute_result"
    }
   ],
   "source": [
    "b4"
   ]
  },
  {
   "cell_type": "code",
   "execution_count": 25,
   "metadata": {
    "ExecuteTime": {
     "end_time": "2018-05-29T16:30:39.190022Z",
     "start_time": "2018-05-29T16:30:39.178731Z"
    }
   },
   "outputs": [
    {
     "data": {
      "text/plain": [
       "\n",
       "[[0. 0. 0. ... 0. 0. 0.]\n",
       " [0. 0. 0. ... 0. 0. 0.]\n",
       " [0. 0. 0. ... 0. 0. 0.]\n",
       " ...\n",
       " [0. 0. 0. ... 0. 0. 0.]\n",
       " [0. 0. 0. ... 0. 0. 0.]\n",
       " [0. 0. 0. ... 0. 0. 0.]]\n",
       "<NDArray 256x10 @cpu(0)>"
      ]
     },
     "execution_count": 25,
     "metadata": {},
     "output_type": "execute_result"
    }
   ],
   "source": [
    "W4"
   ]
  },
  {
   "cell_type": "code",
   "execution_count": 26,
   "metadata": {
    "ExecuteTime": {
     "end_time": "2018-05-29T16:30:47.644338Z",
     "start_time": "2018-05-29T16:30:47.631406Z"
    }
   },
   "outputs": [
    {
     "data": {
      "text/plain": [
       "\n",
       "[0. 0. 0. 0. 0. 0. 0. 0. 0. 0. 0. 0. 0. 0. 0. 0. 0. 0. 0. 0. 0. 0. 0. 0.\n",
       " 0. 0. 0. 0. 0. 0. 0. 0. 0. 0. 0. 0. 0. 0. 0. 0. 0. 0. 0. 0. 0. 0. 0. 0.\n",
       " 0. 0. 0. 0. 0. 0. 0. 0. 0. 0. 0. 0. 0. 0. 0. 0. 0. 0. 0. 0. 0. 0. 0. 0.\n",
       " 0. 0. 0. 0. 0. 0. 0. 0. 0. 0. 0. 0. 0. 0. 0. 0. 0. 0. 0. 0. 0. 0. 0. 0.\n",
       " 0. 0. 0. 0. 0. 0. 0. 0. 0. 0. 0. 0. 0. 0. 0. 0. 0. 0. 0. 0. 0. 0. 0. 0.\n",
       " 0. 0. 0. 0. 0. 0. 0. 0. 0. 0. 0. 0. 0. 0. 0. 0. 0. 0. 0. 0. 0. 0. 0. 0.\n",
       " 0. 0. 0. 0. 0. 0. 0. 0. 0. 0. 0. 0. 0. 0. 0. 0. 0. 0. 0. 0. 0. 0. 0. 0.\n",
       " 0. 0. 0. 0. 0. 0. 0. 0. 0. 0. 0. 0. 0. 0. 0. 0. 0. 0. 0. 0. 0. 0. 0. 0.\n",
       " 0. 0. 0. 0. 0. 0. 0. 0. 0. 0. 0. 0. 0. 0. 0. 0. 0. 0. 0. 0. 0. 0. 0. 0.\n",
       " 0. 0. 0. 0. 0. 0. 0. 0. 0. 0. 0. 0. 0. 0. 0. 0. 0. 0. 0. 0. 0. 0. 0. 0.\n",
       " 0. 0. 0. 0. 0. 0. 0. 0. 0. 0. 0. 0. 0. 0. 0. 0.]\n",
       "<NDArray 256 @cpu(0)>"
      ]
     },
     "execution_count": 26,
     "metadata": {},
     "output_type": "execute_result"
    }
   ],
   "source": [
    "b3"
   ]
  },
  {
   "cell_type": "code",
   "execution_count": null,
   "metadata": {},
   "outputs": [],
   "source": []
  }
 ],
 "metadata": {
  "kernelspec": {
   "display_name": "Python 3",
   "language": "python",
   "name": "python3"
  },
  "language_info": {
   "codemirror_mode": {
    "name": "ipython",
    "version": 3
   },
   "file_extension": ".py",
   "mimetype": "text/x-python",
   "name": "python",
   "nbconvert_exporter": "python",
   "pygments_lexer": "ipython3",
   "version": "3.6.5"
  }
 },
 "nbformat": 4,
 "nbformat_minor": 2
}
