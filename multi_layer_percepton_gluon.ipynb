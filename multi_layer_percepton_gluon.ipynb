{
 "cells": [
  {
   "cell_type": "code",
   "execution_count": 145,
   "metadata": {},
   "outputs": [],
   "source": [
    "from mxnet import gluon\n",
    "from mxnet import autograd\n",
    "import utils\n"
   ]
  },
  {
   "cell_type": "code",
   "execution_count": 146,
   "metadata": {},
   "outputs": [],
   "source": [
    "batch_size = 256\n",
    "epochs = 20"
   ]
  },
  {
   "cell_type": "code",
   "execution_count": 147,
   "metadata": {},
   "outputs": [],
   "source": [
    "train_data, test_data = utils.load_data_fashion_mnist(batch_size)\n",
    "\n",
    "net = gluon.nn.Sequential()\n",
    "with net.name_scope():\n",
    "#     net.add(gluon.nn.Flatten())\n",
    "    net.add(gluon.nn.Dense(256, activation='relu'))\n",
    "    net.add(gluon.nn.Dense(256, activation='relu'))\n",
    "    net.add(gluon.nn.Dense(64, activation='relu'))\n",
    "    net.add(gluon.nn.Dense(32, activation='relu'))\n",
    "    net.add(gluon.nn.Dense(10))\n",
    "net.initialize()\n"
   ]
  },
  {
   "cell_type": "code",
   "execution_count": 148,
   "metadata": {},
   "outputs": [],
   "source": [
    "trainer = gluon.Trainer(net.collect_params(),\n",
    "                       'sgd',\n",
    "                       {\n",
    "                           'learning_rate': 0.5\n",
    "                       })\n",
    "loss_SM_CE = gluon.loss.SoftmaxCrossEntropyLoss()"
   ]
  },
  {
   "cell_type": "code",
   "execution_count": null,
   "metadata": {},
   "outputs": [
    {
     "name": "stdout",
     "output_type": "stream",
     "text": [
      "Epoch 0. Loss: 1.746029, Train acc 0.331130, Test acc 0.533854, take: 1.267234 s.\n",
      "Epoch 1. Loss: 0.799861, Train acc 0.671942, Test acc 0.732973, take: 2.621715 s.\n",
      "Epoch 2. Loss: 0.595109, Train acc 0.763906, Test acc 0.786158, take: 3.905543 s.\n",
      "Epoch 3. Loss: 0.533938, Train acc 0.801749, Test acc 0.774740, take: 5.139849 s.\n",
      "Epoch 4. Loss: 0.475019, Train acc 0.826222, Test acc 0.840946, take: 6.372190 s.\n",
      "Epoch 5. Loss: 0.410120, Train acc 0.847740, Test acc 0.846755, take: 7.612539 s.\n",
      "Epoch 6. Loss: 0.383847, Train acc 0.859091, Test acc 0.859075, take: 8.869850 s.\n",
      "Epoch 7. Loss: 0.371292, Train acc 0.864316, Test acc 0.847055, take: 10.108304 s.\n",
      "Epoch 8. Loss: 0.350106, Train acc 0.871277, Test acc 0.873498, take: 11.354150 s.\n",
      "Epoch 9. Loss: 0.331595, Train acc 0.876987, Test acc 0.869692, take: 12.606365 s.\n"
     ]
    }
   ],
   "source": [
    "import time\n",
    "start = time.time()\n",
    "for e in range(epochs):\n",
    "    train_loss = 0\n",
    "    train_acc = 0\n",
    "    for X, y in train_data:\n",
    "        with autograd.record():\n",
    "            output = net(X)\n",
    "            loss = loss_SM_CE(output, y)\n",
    "        loss.backward()\n",
    "        \n",
    "        trainer.step(batch_size)\n",
    "        train_loss += loss.mean().asscalar()\n",
    "        train_acc += utils.accuracy(output, y) \n",
    "    test_acc = utils.evaluate_accuracy(test_data, net)\n",
    "    print(\"Epoch %d. Loss: %f, Train acc %f, Test acc %f, take: %f s.\" % (\n",
    "        e, train_loss/len(train_data), train_acc/len(train_data), test_acc, time.time() -start))\n",
    "        \n",
    "            "
   ]
  },
  {
   "cell_type": "code",
   "execution_count": null,
   "metadata": {},
   "outputs": [],
   "source": [
    "net.collect_params()"
   ]
  }
 ],
 "metadata": {
  "kernelspec": {
   "display_name": "Python 3",
   "language": "python",
   "name": "python3"
  },
  "language_info": {
   "codemirror_mode": {
    "name": "ipython",
    "version": 3
   },
   "file_extension": ".py",
   "mimetype": "text/x-python",
   "name": "python",
   "nbconvert_exporter": "python",
   "pygments_lexer": "ipython3",
   "version": "3.6.5"
  }
 },
 "nbformat": 4,
 "nbformat_minor": 2
}
