{
 "cells": [
  {
   "cell_type": "code",
   "execution_count": 1,
   "metadata": {},
   "outputs": [],
   "source": [
    "from mxnet import ndarray as nd\n",
    "from mxnet import autograd as ag\n",
    "from mxnet import gluon\n",
    "import mxnet as mx\n",
    "import utils"
   ]
  },
  {
   "cell_type": "code",
   "execution_count": 2,
   "metadata": {},
   "outputs": [],
   "source": [
    "epochs = 10\n",
    "batch_size = 256\n",
    "ctx = utils.try_gpu()\n",
    "\n",
    "train_data, test_data = utils.load_data_fashion_mnist(batch_size)\n",
    "NUM_TARGET = 10"
   ]
  },
  {
   "cell_type": "code",
   "execution_count": 29,
   "metadata": {},
   "outputs": [],
   "source": [
    "net = gluon.nn.Sequential()\n",
    "with net.name_scope():\n",
    "    net.add(gluon.nn.Flatten())\n",
    "    net.add(gluon.nn.Dense(NUM_TARGET))\n",
    "net.initialize()"
   ]
  },
  {
   "cell_type": "code",
   "execution_count": 30,
   "metadata": {},
   "outputs": [],
   "source": [
    "loss_SM_CE = gluon.loss.SoftmaxCrossEntropyLoss()\n",
    "trainer = gluon.Trainer(net.collect_params(), # tried net.params, not work\n",
    "                        'sgd',\n",
    "                        {\n",
    "                            'learning_rate': 1\n",
    "                        }\n",
    ")"
   ]
  },
  {
   "cell_type": "code",
   "execution_count": 31,
   "metadata": {},
   "outputs": [
    {
     "name": "stdout",
     "output_type": "stream",
     "text": [
      "Epoch 0. Loss: 3.377642, Train acc 0.701773, Test acc 0.701823\n",
      "Epoch 1. Loss: 2.029630, Train acc 0.768847, Test acc 0.749499\n",
      "Epoch 2. Loss: 1.758818, Train acc 0.784872, Test acc 0.731571\n",
      "Epoch 3. Loss: 1.627860, Train acc 0.791316, Test acc 0.802784\n",
      "Epoch 4. Loss: 1.687647, Train acc 0.792885, Test acc 0.767127\n",
      "Epoch 5. Loss: 1.494601, Train acc 0.802000, Test acc 0.762520\n",
      "Epoch 6. Loss: 1.588024, Train acc 0.799396, Test acc 0.751202\n",
      "Epoch 7. Loss: 1.493077, Train acc 0.804487, Test acc 0.734976\n",
      "Epoch 8. Loss: 1.527085, Train acc 0.803819, Test acc 0.833233\n",
      "Epoch 9. Loss: 1.492494, Train acc 0.805339, Test acc 0.758614\n"
     ]
    }
   ],
   "source": [
    "for e in range(epochs):\n",
    "    training_loss = 0\n",
    "    training_acc = 0\n",
    "    for datas, labels in train_data:\n",
    "        X = datas.as_in_context(ctx)\n",
    "        y = labels.as_in_context(ctx)\n",
    "        with ag.record():\n",
    "            _yhat = net(X)\n",
    "            loss = loss_SM_CE(_yhat, y)\n",
    "        loss.backward()\n",
    "        trainer.step(batch_size)\n",
    "        \n",
    "        training_loss += nd.mean(loss).asscalar()\n",
    "        training_acc += utils.accuracy(_yhat, labels)\n",
    "    test_acc = utils.evaluate_accuracy(test_data, net)\n",
    "    print(\"Epoch %d. Loss: %f, Train acc %f, Test acc %f\" % (\n",
    "        e, training_loss/len(train_data), training_acc/len(train_data), test_acc))"
   ]
  },
  {
   "cell_type": "code",
   "execution_count": null,
   "metadata": {},
   "outputs": [],
   "source": [
    "nd.Activation"
   ]
  },
  {
   "cell_type": "code",
   "execution_count": 44,
   "metadata": {},
   "outputs": [
    {
     "data": {
      "text/plain": [
       "mxnet.gluon.parameter.ParameterDict"
      ]
     },
     "execution_count": 44,
     "metadata": {},
     "output_type": "execute_result"
    }
   ],
   "source": [
    "\n",
    "params = net.collect_params()\n",
    "type(params)"
   ]
  },
  {
   "cell_type": "code",
   "execution_count": 46,
   "metadata": {},
   "outputs": [
    {
     "data": {
      "text/plain": [
       "mxnet.gluon.parameter.ParameterDict"
      ]
     },
     "execution_count": 46,
     "metadata": {},
     "output_type": "execute_result"
    }
   ],
   "source": [
    "type(net.params)"
   ]
  },
  {
   "cell_type": "code",
   "execution_count": 12,
   "metadata": {},
   "outputs": [],
   "source": [
    "a = nd.array([[[1,2,3],[1,2,3]],[[1,2,3],[1,2,3]],[[1,2,3],[1,2,3]],[[1,2,3],[1,2,3]]])\n",
    "a.as"
   ]
  },
  {
   "cell_type": "code",
   "execution_count": 12,
   "metadata": {},
   "outputs": [
    {
     "data": {
      "text/plain": [
       "\n",
       "[[ 1.  2.]\n",
       " [ 3.  1.]\n",
       " [ 2.  3.]\n",
       " [ 1.  2.]\n",
       " [ 3.  1.]\n",
       " [ 2.  3.]\n",
       " [ 1.  2.]\n",
       " [ 3.  1.]\n",
       " [ 2.  3.]\n",
       " [ 1.  2.]\n",
       " [ 3.  1.]\n",
       " [ 2.  3.]]\n",
       "<NDArray 12x2 @cpu(0)>"
      ]
     },
     "execution_count": 12,
     "metadata": {},
     "output_type": "execute_result"
    }
   ],
   "source": [
    "a.reshape((12,-1))"
   ]
  },
  {
   "cell_type": "code",
   "execution_count": null,
   "metadata": {},
   "outputs": [],
   "source": []
  }
 ],
 "metadata": {
  "kernelspec": {
   "display_name": "Python 3",
   "language": "python",
   "name": "python3"
  },
  "language_info": {
   "codemirror_mode": {
    "name": "ipython",
    "version": 3
   },
   "file_extension": ".py",
   "mimetype": "text/x-python",
   "name": "python",
   "nbconvert_exporter": "python",
   "pygments_lexer": "ipython3",
   "version": "3.6.5"
  }
 },
 "nbformat": 4,
 "nbformat_minor": 2
}
