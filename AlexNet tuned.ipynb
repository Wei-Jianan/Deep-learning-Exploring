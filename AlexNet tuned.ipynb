{
 "cells": [
  {
   "cell_type": "code",
   "execution_count": 6,
   "metadata": {
    "collapsed": false
   },
   "outputs": [],
   "source": [
    "\n",
    "import sys\n",
    "sys.path.append('..')\n",
    "import gluonbook as gb\n",
    "import mxnet as mx\n",
    "from mxnet import nd, gluon, init\n",
    "from mxnet.gluon import nn\n",
    "\n",
    "net = nn.Sequential()\n",
    "net.add(\n",
    "    nn.Conv2D(channels=20, kernel_size=3, activation='sigmoid'),\n",
    "    nn.Conv2D(channels=50, kernel_size=3, activation='sigmoid'),\n",
    "    nn.MaxPool2D(pool_size=2, strides=2),\n",
    "    nn.Conv2D(channels=30, kernel_size=3, activation='sigmoid'),\n",
    "    nn.Conv2D(channels=15, kernel_size=3, activation='sigmoid'),    \n",
    "    nn.MaxPool2D(pool_size=2, strides=2),\n",
    "    # Dense 会默认将（批量大小，通道，高，宽）形状的输入转换成\n",
    "    #（批量大小，通道 x 高 x 宽）形状的输入。\n",
    "    nn.Dense(120, activation='sigmoid'),\n",
    "    nn.Dense(84, activation='sigmoid'),\n",
    "    nn.Dense(10)\n",
    ")"
   ]
  },
  {
   "cell_type": "code",
   "execution_count": 7,
   "metadata": {
    "collapsed": false,
    "scrolled": true
   },
   "outputs": [],
   "source": [
    "import sys\n",
    "sys.path.append('..')\n",
    "import gluonbook as gb\n",
    "from mxnet import nd, init, gluon\n",
    "from mxnet.gluon import nn\n",
    "\n",
    "net = nn.Sequential()\n",
    "net.add(\n",
    "  \n",
    "#     nn.Conv2D(96, kernel_size=11, strides=4, activation='relu'),\n",
    "    nn.Conv2D(96, kernel_size=5, strides=2, activation='relu'),\n",
    "    nn.Conv2D(96, kernel_size=5, strides=2, activation='relu'),\n",
    "    nn.MaxPool2D(pool_size=3, strides=2),\n",
    "\n",
    "#     nn.Conv2D(256, kernel_size=5, padding=2, activation='relu'),\n",
    "    nn.Conv2D(256, kernel_size=3, padding=1, activation='relu'),\n",
    "    nn.Conv2D(256, kernel_size=3, padding=1, activation='relu'),\n",
    "    nn.MaxPool2D(pool_size=3, strides=2),\n",
    "\n",
    "    nn.Conv2D(384, kernel_size=3, padding=1, activation='relu'),\n",
    "    nn.Conv2D(384, kernel_size=3, padding=1, activation='relu'),\n",
    "    nn.Conv2D(256, kernel_size=3, padding=1, activation='relu'),\n",
    "    nn.MaxPool2D(pool_size=3, strides=2),\n",
    "\n",
    "    nn.Dense(4096, activation=\"relu\"),\n",
    "    nn.Dropout(.5),\n",
    "    nn.Dense(4096, activation=\"relu\"),\n",
    "    nn.Dropout(.5),\n",
    "\n",
    "    nn.Dense(10)\n",
    ")"
   ]
  },
  {
   "cell_type": "code",
   "execution_count": 9,
   "metadata": {
    "collapsed": true
   },
   "outputs": [],
   "source": [
    "train_data, test_data = gb.load_data_fashion_mnist(batch_size=128, resize=224)"
   ]
  },
  {
   "cell_type": "code",
   "execution_count": null,
   "metadata": {
    "collapsed": false
   },
   "outputs": [
    {
     "name": "stderr",
     "output_type": "stream",
     "text": [
      "C:\\Program Files\\Anaconda3\\lib\\site-packages\\mxnet\\gluon\\parameter.py:320: UserWarning: Parameter conv13_weight is already initialized, ignoring. Set force_reinit=True to re-initialize.\n",
      "  \"Set force_reinit=True to re-initialize.\"%self.name)\n",
      "C:\\Program Files\\Anaconda3\\lib\\site-packages\\mxnet\\gluon\\parameter.py:320: UserWarning: Parameter conv13_bias is already initialized, ignoring. Set force_reinit=True to re-initialize.\n",
      "  \"Set force_reinit=True to re-initialize.\"%self.name)\n",
      "C:\\Program Files\\Anaconda3\\lib\\site-packages\\mxnet\\gluon\\parameter.py:320: UserWarning: Parameter conv14_weight is already initialized, ignoring. Set force_reinit=True to re-initialize.\n",
      "  \"Set force_reinit=True to re-initialize.\"%self.name)\n",
      "C:\\Program Files\\Anaconda3\\lib\\site-packages\\mxnet\\gluon\\parameter.py:320: UserWarning: Parameter conv14_bias is already initialized, ignoring. Set force_reinit=True to re-initialize.\n",
      "  \"Set force_reinit=True to re-initialize.\"%self.name)\n",
      "C:\\Program Files\\Anaconda3\\lib\\site-packages\\mxnet\\gluon\\parameter.py:320: UserWarning: Parameter conv15_weight is already initialized, ignoring. Set force_reinit=True to re-initialize.\n",
      "  \"Set force_reinit=True to re-initialize.\"%self.name)\n",
      "C:\\Program Files\\Anaconda3\\lib\\site-packages\\mxnet\\gluon\\parameter.py:320: UserWarning: Parameter conv15_bias is already initialized, ignoring. Set force_reinit=True to re-initialize.\n",
      "  \"Set force_reinit=True to re-initialize.\"%self.name)\n",
      "C:\\Program Files\\Anaconda3\\lib\\site-packages\\mxnet\\gluon\\parameter.py:320: UserWarning: Parameter conv16_weight is already initialized, ignoring. Set force_reinit=True to re-initialize.\n",
      "  \"Set force_reinit=True to re-initialize.\"%self.name)\n",
      "C:\\Program Files\\Anaconda3\\lib\\site-packages\\mxnet\\gluon\\parameter.py:320: UserWarning: Parameter conv16_bias is already initialized, ignoring. Set force_reinit=True to re-initialize.\n",
      "  \"Set force_reinit=True to re-initialize.\"%self.name)\n",
      "C:\\Program Files\\Anaconda3\\lib\\site-packages\\mxnet\\gluon\\parameter.py:320: UserWarning: Parameter conv17_weight is already initialized, ignoring. Set force_reinit=True to re-initialize.\n",
      "  \"Set force_reinit=True to re-initialize.\"%self.name)\n",
      "C:\\Program Files\\Anaconda3\\lib\\site-packages\\mxnet\\gluon\\parameter.py:320: UserWarning: Parameter conv17_bias is already initialized, ignoring. Set force_reinit=True to re-initialize.\n",
      "  \"Set force_reinit=True to re-initialize.\"%self.name)\n",
      "C:\\Program Files\\Anaconda3\\lib\\site-packages\\mxnet\\gluon\\parameter.py:320: UserWarning: Parameter conv18_weight is already initialized, ignoring. Set force_reinit=True to re-initialize.\n",
      "  \"Set force_reinit=True to re-initialize.\"%self.name)\n",
      "C:\\Program Files\\Anaconda3\\lib\\site-packages\\mxnet\\gluon\\parameter.py:320: UserWarning: Parameter conv18_bias is already initialized, ignoring. Set force_reinit=True to re-initialize.\n",
      "  \"Set force_reinit=True to re-initialize.\"%self.name)\n",
      "C:\\Program Files\\Anaconda3\\lib\\site-packages\\mxnet\\gluon\\parameter.py:320: UserWarning: Parameter conv19_weight is already initialized, ignoring. Set force_reinit=True to re-initialize.\n",
      "  \"Set force_reinit=True to re-initialize.\"%self.name)\n",
      "C:\\Program Files\\Anaconda3\\lib\\site-packages\\mxnet\\gluon\\parameter.py:320: UserWarning: Parameter conv19_bias is already initialized, ignoring. Set force_reinit=True to re-initialize.\n",
      "  \"Set force_reinit=True to re-initialize.\"%self.name)\n",
      "C:\\Program Files\\Anaconda3\\lib\\site-packages\\mxnet\\gluon\\parameter.py:320: UserWarning: Parameter dense9_weight is already initialized, ignoring. Set force_reinit=True to re-initialize.\n",
      "  \"Set force_reinit=True to re-initialize.\"%self.name)\n",
      "C:\\Program Files\\Anaconda3\\lib\\site-packages\\mxnet\\gluon\\parameter.py:320: UserWarning: Parameter dense9_bias is already initialized, ignoring. Set force_reinit=True to re-initialize.\n",
      "  \"Set force_reinit=True to re-initialize.\"%self.name)\n",
      "C:\\Program Files\\Anaconda3\\lib\\site-packages\\mxnet\\gluon\\parameter.py:320: UserWarning: Parameter dense10_weight is already initialized, ignoring. Set force_reinit=True to re-initialize.\n",
      "  \"Set force_reinit=True to re-initialize.\"%self.name)\n",
      "C:\\Program Files\\Anaconda3\\lib\\site-packages\\mxnet\\gluon\\parameter.py:320: UserWarning: Parameter dense10_bias is already initialized, ignoring. Set force_reinit=True to re-initialize.\n",
      "  \"Set force_reinit=True to re-initialize.\"%self.name)\n",
      "C:\\Program Files\\Anaconda3\\lib\\site-packages\\mxnet\\gluon\\parameter.py:320: UserWarning: Parameter dense11_weight is already initialized, ignoring. Set force_reinit=True to re-initialize.\n",
      "  \"Set force_reinit=True to re-initialize.\"%self.name)\n",
      "C:\\Program Files\\Anaconda3\\lib\\site-packages\\mxnet\\gluon\\parameter.py:320: UserWarning: Parameter dense11_bias is already initialized, ignoring. Set force_reinit=True to re-initialize.\n",
      "  \"Set force_reinit=True to re-initialize.\"%self.name)\n"
     ]
    },
    {
     "name": "stdout",
     "output_type": "stream",
     "text": [
      "training on  gpu(0)\n",
      "epoch 1, loss 0.0218, train acc 0.992, test acc 0.929, time 190.5 sec\n",
      "epoch 2, loss 0.0191, train acc 0.993, test acc 0.933, time 191.4 sec\n",
      "epoch 3, loss 0.0187, train acc 0.994, test acc 0.933, time 190.6 sec\n"
     ]
    }
   ],
   "source": [
    "\n",
    "ctx = gb.try_gpu()\n",
    "net.initialize( ctx=ctx, init=init.Xavier())\n",
    "trainer = gluon.Trainer(net.collect_params(), 'sgd', {'learning_rate': .01})\n",
    "\n",
    "loss = gluon.loss.SoftmaxCrossEntropyLoss()\n",
    "gb.train(train_data, test_data, net, loss, trainer, ctx, num_epochs=100\n",
    "        )"
   ]
  },
  {
   "cell_type": "code",
   "execution_count": null,
   "metadata": {
    "collapsed": false
   },
   "outputs": [],
   "source": [
    "layer = net[6]\n",
    "layer.weight.grad()"
   ]
  },
  {
   "cell_type": "code",
   "execution_count": null,
   "metadata": {
    "collapsed": false
   },
   "outputs": [],
   "source": [
    "net.collect_params"
   ]
  },
  {
   "cell_type": "code",
   "execution_count": null,
   "metadata": {
    "collapsed": true
   },
   "outputs": [],
   "source": []
  }
 ],
 "metadata": {
  "kernelspec": {
   "display_name": "Python 3",
   "language": "python",
   "name": "python3"
  }
 },
 "nbformat": 4,
 "nbformat_minor": 2
}
