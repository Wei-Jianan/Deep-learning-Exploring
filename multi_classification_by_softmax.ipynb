{
 "cells": [
  {
   "cell_type": "code",
   "execution_count": 16,
   "metadata": {},
   "outputs": [],
   "source": [
    "from mxnet import gluon\n",
    "from mxnet import ndarray as nd\n",
    "from mxnet import autograd as ag"
   ]
  },
  {
   "cell_type": "code",
   "execution_count": 17,
   "metadata": {},
   "outputs": [],
   "source": [
    "minist_train = gluon.data.vision.FashionMNIST(train=True)\n",
    "minist_test = gluon.data.vision.FashionMNIST(train=False)\n",
    "\n",
    "def transform(data, label):\n",
    "    return data.astype('float32')/255, label.astype('float32')\n",
    "\n",
    "# could be put inside the FashionMINIST() parameters list\n",
    "minist_train = minist_train.transform(transform, lazy=True)\n",
    "minist_test = minist_test.transform(transform, lazy=True)\n"
   ]
  },
  {
   "cell_type": "code",
   "execution_count": 18,
   "metadata": {},
   "outputs": [],
   "source": [
    "import matplotlib.pyplot as plt\n",
    "\n",
    "def get_text_labels(label):\n",
    "    text_labels = [\n",
    "        't-shirt', 'trouser', 'pullover', 'dress,', 'coat',\n",
    "        'sandal', 'shirt', 'sneaker', 'bag', 'ankle boot'\n",
    "    ]\n",
    "    return [text_labels[int(i)] for i in label]\n",
    "\n",
    "def show_images(images, labels):\n",
    "    n = images.shape[0]\n",
    "    _, figs = plt.subplots(1, n, figsize=(15,15),\n",
    "                          subplot_kw={'xticks': [], 'yticks': []})\n",
    "    text_labels = get_text_labels(labels)\n",
    "    for fig, image, text_label in zip(figs, images, text_labels):\n",
    "        fig.imshow(image.reshape(image.shape[:2]).asnumpy())\n",
    "        fig.set_title(text_label)\n",
    "    plt.show()\n",
    "\n"
   ]
  },
  {
   "cell_type": "code",
   "execution_count": 19,
   "metadata": {},
   "outputs": [],
   "source": [
    "batch_size = 256\n",
    "train_data = gluon.data.DataLoader(minist_train, batch_size,shuffle=True)\n",
    "test_data = gluon.data.DataLoader(minist_test, batch_size, shuffle=False)"
   ]
  },
  {
   "cell_type": "code",
   "execution_count": 20,
   "metadata": {},
   "outputs": [
    {
     "data": {
      "image/png": "[encoded data removed]",
      "text/plain": [
       "<Figure size 1080x1080 with 10 Axes>"
      ]
     },
     "metadata": {},
     "output_type": "display_data"
    }
   ],
   "source": [
    "datas_to_show, labels_to_show = minist_test[:10]\n",
    "\n",
    "show_images(datas_to_show, labels_to_show)"
   ]
  },
  {
   "cell_type": "code",
   "execution_count": 21,
   "metadata": {},
   "outputs": [],
   "source": [
    "num_imputs = 28 * 28\n",
    "num_outputs = 10\n",
    "\n",
    "W = nd.random_normal(shape=(num_imputs, num_outputs))\n",
    "b = nd.random_normal(shape=num_outputs)\n",
    "params = [W, b]\n",
    "\n",
    "for param in params:\n",
    "    param.attach_grad()"
   ]
  },
  {
   "cell_type": "code",
   "execution_count": 22,
   "metadata": {},
   "outputs": [],
   "source": [
    "def softmax(_yhat):\n",
    "    exp = nd.exp(_yhat)\n",
    "#     print(\"exp:  \", exp)\n",
    "    partition = nd.sum(exp, axis=1, keepdims=True)\n",
    "#     print('\\npartition:  ;', partition)\n",
    "    return nd.divide(exp, partition)"
   ]
  },
  {
   "cell_type": "code",
   "execution_count": 23,
   "metadata": {},
   "outputs": [
    {
     "name": "stdout",
     "output_type": "stream",
     "text": [
      "(3, 4)\n"
     ]
    },
    {
     "data": {
      "text/plain": [
       "\n",
       "[[ 5.  0.  0.  7.]\n",
       " [58.  3.  0.  7.]]\n",
       "<NDArray 2x4 @cpu(0)>"
      ]
     },
     "execution_count": 23,
     "metadata": {},
     "output_type": "execute_result"
    }
   ],
   "source": [
    "# play with axis sum\n",
    "a = nd.array([[[1,0,0,2],[1,0,0,2], [3,0,0,3]],[[50,0,0,2],[5,0,0,5], [3,3,0,0]]])\n",
    "print(nd.sum(a, axis=0).shape)\n",
    "nd.sum(a, axis=1)"
   ]
  },
  {
   "cell_type": "code",
   "execution_count": 24,
   "metadata": {},
   "outputs": [],
   "source": [
    "def net(X):\n",
    "    _yhat = nd.dot(X.reshape(-1, num_imputs), W) + b\n",
    "    return softmax(_yhat)\n"
   ]
  },
  {
   "cell_type": "code",
   "execution_count": 25,
   "metadata": {},
   "outputs": [],
   "source": [
    "def loss_CE(yhat, y):\n",
    "    return - nd.pick(nd.log(yhat), y, axis=1)"
   ]
  },
  {
   "cell_type": "code",
   "execution_count": 26,
   "metadata": {},
   "outputs": [],
   "source": [
    "def SGD(params, lr):\n",
    "    for param in params:\n",
    "        param[:] = param - lr * param.grad"
   ]
  },
  {
   "cell_type": "code",
   "execution_count": 27,
   "metadata": {},
   "outputs": [],
   "source": [
    "def accuracy(yhat, labels):\n",
    "    return nd.mean(yhat.argmax(axis=1) == labels).asscalar()\n",
    "def evaluate_accuracy(data_iter, net):\n",
    "    count = 0\n",
    "    _accuracy = 0\n",
    "    for datas, labels in data_iter:\n",
    "        yhat = net(datas)\n",
    "        _accuracy += accuracy(yhat, labels)\n",
    "        count += 1\n",
    "    return _accuracy / count\n"
   ]
  },
  {
   "cell_type": "code",
   "execution_count": 28,
   "metadata": {},
   "outputs": [
    {
     "data": {
      "text/plain": [
       "0.000390625"
      ]
     },
     "execution_count": 28,
     "metadata": {},
     "output_type": "execute_result"
    }
   ],
   "source": [
    "lr = 0.1 /256\n",
    "lr"
   ]
  },
  {
   "cell_type": "code",
   "execution_count": 29,
   "metadata": {},
   "outputs": [
    {
     "data": {
      "text/plain": [
       "0.114"
      ]
     },
     "execution_count": 29,
     "metadata": {},
     "output_type": "execute_result"
    }
   ],
   "source": [
    "# net intialized but without trained\n",
    "evaluate_accuracy(minist_test, net)"
   ]
  },
  {
   "cell_type": "code",
   "execution_count": 30,
   "metadata": {},
   "outputs": [
    {
     "name": "stdout",
     "output_type": "stream",
     "text": [
      "0.1142578125\n",
      "\n",
      " Epoch 0 finished!\n",
      "Total loss: 661751.022705\t: The accuracy in test case:\t0.166992\n",
      "\n",
      " Epoch 1 finished!\n",
      "Total loss: 447949.511230\t: The accuracy in test case:\t0.231152\n",
      "\n",
      " Epoch 2 finished!\n",
      "Total loss: 348438.238892\t: The accuracy in test case:\t0.273242\n",
      "\n",
      " Epoch 3 finished!\n",
      "Total loss: 296937.574921\t: The accuracy in test case:\t0.307910\n",
      "\n",
      " Epoch 4 finished!\n",
      "Total loss: 270723.555939\t: The accuracy in test case:\t0.336230\n"
     ]
    }
   ],
   "source": [
    "epochs = 5 \n",
    "learning_rate = 0.00001 # attention! tricky here. gradient vanishing. 时灵时不灵，完全玄学！\n",
    "print(evaluate_accuracy(test_data, net))\n",
    "for e in range(epochs):\n",
    "    total_loss = 0\n",
    "    for datas, labels in train_data:\n",
    "        y = labels\n",
    "        with ag.record():\n",
    "            yhat = net(datas)\n",
    "            loss = loss_CE(yhat, y)\n",
    "        loss.backward()\n",
    "        SGD(params, learning_rate)\n",
    "        total_loss += loss.sum().asscalar()\n",
    "#         print('epoch %d:total_loss inside batch:\\t%f, accuracy inside batch:\\t%f'% (e, loss.sum().asscalar(), accuracy(yhat, labels)))\n",
    "#         print(\"gradient is :\", params[0])\n",
    "    print('\\n Epoch %d finished!\\nTotal loss: %f\\t: The accuracy in test case:\\t%f' % (e, total_loss, evaluate_accuracy(test_data, net)))"
   ]
  }
 ],
 "metadata": {
  "kernelspec": {
   "display_name": "Python 3",
   "language": "python",
   "name": "python3"
  },
  "language_info": {
   "codemirror_mode": {
    "name": "ipython",
    "version": 3
   },
   "file_extension": ".py",
   "mimetype": "text/x-python",
   "name": "python",
   "nbconvert_exporter": "python",
   "pygments_lexer": "ipython3",
   "version": "3.6.5"
  }
 },
 "nbformat": 4,
 "nbformat_minor": 2
}
