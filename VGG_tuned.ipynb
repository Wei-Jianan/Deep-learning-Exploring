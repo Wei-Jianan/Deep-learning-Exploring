{
 "cells": [
  {
   "cell_type": "code",
   "execution_count": 29,
   "metadata": {
    "ExecuteTime": {
     "end_time": "2018-05-22T13:47:45.539445Z",
     "start_time": "2018-05-22T13:47:45.532555Z"
    }
   },
   "outputs": [],
   "source": [
    "import sys\n",
    "sys.path.append('..')\n",
    "import gluonbook as gb\n",
    "import mxnet as mx\n",
    "from mxnet import nd, gluon, init\n",
    "from mxnet.gluon import nn\n",
    "\n",
    "def vgg_block(num_convs, num_channels):\n",
    "    blk = nn.Sequential()\n",
    "    for _ in range(num_convs):\n",
    "        blk.add(nn.Conv2D(channels=num_channels,\n",
    "                          kernel_size=3, \n",
    "                          padding=1, \n",
    "                          activation='relu'))\n",
    "    blk.add(nn.MaxPool2D(pool_size=2))\n",
    "    return blk\n",
    "\n",
    "def vgg(conv_arch, num_outputs):\n",
    "    net = nn.Sequential()\n",
    "    for (num_convs, num_channels) in conv_arch:\n",
    "        net.add(vgg_block(num_convs, num_channels))\n",
    "    net.add(\n",
    "            nn.Dense(512, activation='relu'),\n",
    "            nn.Dropout(0.5),\n",
    "            nn.Dense(512, activation='relu'),\n",
    "            nn.Dropout(0.5),\n",
    "            nn.Dense(num_outputs),\n",
    "            )\n",
    "    return net\n"
   ]
  },
  {
   "cell_type": "code",
   "execution_count": 51,
   "metadata": {
    "ExecuteTime": {
     "end_time": "2018-05-22T14:07:53.612868Z",
     "start_time": "2018-05-22T14:07:53.569672Z"
    }
   },
   "outputs": [
    {
     "name": "stdout",
     "output_type": "stream",
     "text": [
      "sequential80  shape:\t (33, 64, 112, 112)\n",
      "sequential81  shape:\t (33, 128, 56, 56)\n",
      "sequential82  shape:\t (33, 256, 28, 28)\n",
      "sequential83  shape:\t (33, 512, 14, 14)\n",
      "sequential84  shape:\t (33, 512, 7, 7)\n",
      "dense42  shape:\t (33, 512)\n",
      "dropout26  shape:\t (33, 512)\n",
      "dense43  shape:\t (33, 512)\n",
      "dropout27  shape:\t (33, 512)\n",
      "dense44  shape:\t (33, 1000)\n"
     ]
    }
   ],
   "source": [
    "conv_arch = ((1,64), (1,128), (2,256), (2,512), (2,512))\n",
    "net = vgg(conv_arch, 1000)\n",
    "net.initialize()\n",
    "\n",
    "X = nd.random.uniform(shape=(33,3,224,224))\n",
    "\n",
    "for blk in net:\n",
    "    X = blk(X)\n",
    "    print(blk.name, ' shape:\\t', X.shape)"
   ]
  },
  {
   "cell_type": "code",
   "execution_count": 52,
   "metadata": {
    "ExecuteTime": {
     "end_time": "2018-05-22T14:07:59.112470Z",
     "start_time": "2018-05-22T14:07:59.104934Z"
    }
   },
   "outputs": [],
   "source": [
    "ratio =  2\n",
    "small_conv_arch = [(pair[0], int(pair[1]/ratio)) for pair in conv_arch]\n",
    "net = vgg(small_conv_arch, 10)"
   ]
  },
  {
   "cell_type": "code",
   "execution_count": null,
   "metadata": {
    "ExecuteTime": {
     "start_time": "2018-05-22T14:08:07.006Z"
    }
   },
   "outputs": [
    {
     "name": "stderr",
     "output_type": "stream",
     "text": [
      "/Users/jiananwei/anaconda3/envs/ML/lib/python3.6/site-packages/mxnet/gluon/data/vision/datasets.py:118: DeprecationWarning: The binary mode of fromstring is deprecated, as it behaves surprisingly on unicode inputs. Use frombuffer instead\n",
      "  label = np.fromstring(fin.read(), dtype=np.uint8).astype(np.int32)\n",
      "/Users/jiananwei/anaconda3/envs/ML/lib/python3.6/site-packages/mxnet/gluon/data/vision/datasets.py:122: DeprecationWarning: The binary mode of fromstring is deprecated, as it behaves surprisingly on unicode inputs. Use frombuffer instead\n",
      "  data = np.fromstring(fin.read(), dtype=np.uint8)\n"
     ]
    },
    {
     "name": "stdout",
     "output_type": "stream",
     "text": [
      "training on  cpu(0)\n"
     ]
    }
   ],
   "source": [
    "ctx = gb.try_gpu()\n",
    "net.initialize(ctx=ctx, init=init.Xavier())\n",
    "trainer = gluon.Trainer(net.collect_params(), 'sgd', {'learning_rate': 0.05})\n",
    "\n",
    "train_data, test_data = gb.load_data_fashion_mnist(batch_size=128, resize=224)\n",
    "loss = gluon.loss.SoftmaxCrossEntropyLoss()\n",
    "gb.train(train_data, test_data, net, loss, trainer, ctx, num_epochs=3)"
   ]
  },
  {
   "cell_type": "code",
   "execution_count": null,
   "metadata": {},
   "outputs": [],
   "source": []
  }
 ],
 "metadata": {
  "kernelspec": {
   "display_name": "Python 3",
   "language": "python",
   "name": "python3"
  },
  "language_info": {
   "codemirror_mode": {
    "name": "ipython",
    "version": 3
   },
   "file_extension": ".py",
   "mimetype": "text/x-python",
   "name": "python",
   "nbconvert_exporter": "python",
   "pygments_lexer": "ipython3",
   "version": "3.6.5"
  }
 },
 "nbformat": 4,
 "nbformat_minor": 2
}
