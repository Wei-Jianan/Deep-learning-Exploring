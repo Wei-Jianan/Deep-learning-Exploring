{
 "cells": [
  {
   "cell_type": "code",
   "execution_count": 1,
   "metadata": {
    "ExecuteTime": {
     "end_time": "2018-05-22T13:47:45.539445Z",
     "start_time": "2018-05-22T13:47:45.532555Z"
    }
   },
   "outputs": [],
   "source": [
    "import sys\n",
    "sys.path.append('..')\n",
    "import gluonbook as gb\n",
    "import mxnet as mx\n",
    "from mxnet import nd, gluon, init\n",
    "from mxnet.gluon import nn\n",
    "\n",
    "def vgg_block(num_convs, num_channels):\n",
    "    blk = nn.Sequential()\n",
    "    for _ in range(num_convs):\n",
    "        blk.add(nn.Conv2D(channels=num_channels,\n",
    "                          kernel_size=3, \n",
    "                          padding=1, \n",
    "                          activation='relu'))\n",
    "    blk.add(nn.MaxPool2D(pool_size=2))\n",
    "    return blk\n",
    "\n",
    "def vgg(conv_arch, num_outputs):\n",
    "    net = nn.Sequential()\n",
    "    for (num_convs, num_channels) in conv_arch:\n",
    "        net.add(vgg_block(num_convs, num_channels))\n",
    "    net.add(\n",
    "            nn.Dense(512, activation='relu'),\n",
    "            nn.Dropout(0.5),\n",
    "            nn.Dense(512, activation='relu'),\n",
    "            nn.Dropout(0.5),\n",
    "            nn.Dense(num_outputs),\n",
    "            )\n",
    "    return net\n"
   ]
  },
  {
   "cell_type": "code",
   "execution_count": 2,
   "metadata": {
    "ExecuteTime": {
     "end_time": "2018-05-22T14:07:53.612868Z",
     "start_time": "2018-05-22T14:07:53.569672Z"
    }
   },
   "outputs": [
    {
     "name": "stdout",
     "output_type": "stream",
     "text": [
      "sequential1  shape:\t (33, 64, 112, 112)\n",
      "sequential2  shape:\t (33, 128, 56, 56)\n",
      "sequential3  shape:\t (33, 256, 28, 28)\n",
      "sequential4  shape:\t (33, 512, 14, 14)\n",
      "sequential5  shape:\t (33, 512, 7, 7)\n",
      "dense0  shape:\t (33, 512)\n",
      "dropout0  shape:\t (33, 512)\n",
      "dense1  shape:\t (33, 512)\n",
      "dropout1  shape:\t (33, 512)\n",
      "dense2  shape:\t (33, 1000)\n"
     ]
    }
   ],
   "source": [
    "conv_arch = ((1,64), (1,128), (2,256), (2,512), (2,512))\n",
    "net = vgg(conv_arch, 1000)\n",
    "net.initialize()\n",
    "\n",
    "X = nd.random.uniform(shape=(33,3,224,224))\n",
    "\n",
    "for blk in net:\n",
    "    X = blk(X)\n",
    "    print(blk.name, ' shape:\\t', X.shape)"
   ]
  },
  {
   "cell_type": "code",
   "execution_count": 3,
   "metadata": {
    "ExecuteTime": {
     "end_time": "2018-05-22T14:07:59.112470Z",
     "start_time": "2018-05-22T14:07:59.104934Z"
    }
   },
   "outputs": [],
   "source": [
    "ratio =  2\n",
    "small_conv_arch = [(pair[0], int(pair[1]/ratio)) for pair in conv_arch]\n",
    "net = vgg(small_conv_arch, 10)"
   ]
  },
  {
   "cell_type": "code",
   "execution_count": 4,
   "metadata": {
    "ExecuteTime": {
     "start_time": "2018-05-22T14:08:07.006Z"
    }
   },
   "outputs": [
    {
     "name": "stderr",
     "output_type": "stream",
     "text": [
      "C:\\Program Files\\Anaconda3\\envs\\ML\\lib\\site-packages\\mxnet\\gluon\\data\\vision.py:118: DeprecationWarning: The binary mode of fromstring is deprecated, as it behaves surprisingly on unicode inputs. Use frombuffer instead\n",
      "  label = np.fromstring(fin.read(), dtype=np.uint8).astype(np.int32)\n",
      "C:\\Program Files\\Anaconda3\\envs\\ML\\lib\\site-packages\\mxnet\\gluon\\data\\vision.py:122: DeprecationWarning: The binary mode of fromstring is deprecated, as it behaves surprisingly on unicode inputs. Use frombuffer instead\n",
      "  data = np.fromstring(fin.read(), dtype=np.uint8)\n"
     ]
    },
    {
     "name": "stdout",
     "output_type": "stream",
     "text": [
      "training on  gpu(0)\n",
      "epoch 1, loss 0.8709, train acc 0.676, test acc 0.847, time 279.6 sec\n",
      "epoch 2, loss 0.4291, train acc 0.847, test acc 0.879, time 272.4 sec\n",
      "epoch 3, loss 0.3478, train acc 0.875, test acc 0.899, time 272.3 sec\n",
      "epoch 4, loss 0.3004, train acc 0.891, test acc 0.909, time 272.2 sec\n",
      "epoch 5, loss 0.2686, train acc 0.903, test acc 0.914, time 272.4 sec\n",
      "epoch 6, loss 0.2465, train acc 0.911, test acc 0.921, time 272.7 sec\n",
      "epoch 7, loss 0.2252, train acc 0.919, test acc 0.923, time 272.5 sec\n",
      "epoch 8, loss 0.2097, train acc 0.924, test acc 0.922, time 272.6 sec\n",
      "epoch 9, loss 0.1940, train acc 0.930, test acc 0.929, time 272.5 sec\n",
      "epoch 10, loss 0.1786, train acc 0.935, test acc 0.930, time 272.3 sec\n",
      "epoch 11, loss 0.1629, train acc 0.939, test acc 0.928, time 272.4 sec\n",
      "epoch 12, loss 0.1539, train acc 0.943, test acc 0.932, time 272.4 sec\n",
      "epoch 13, loss 0.1404, train acc 0.949, test acc 0.933, time 272.5 sec\n",
      "epoch 14, loss 0.1314, train acc 0.952, test acc 0.933, time 272.4 sec\n",
      "epoch 15, loss 0.1178, train acc 0.957, test acc 0.933, time 272.4 sec\n",
      "epoch 16, loss 0.1083, train acc 0.960, test acc 0.936, time 272.3 sec\n",
      "epoch 17, loss 0.1000, train acc 0.963, test acc 0.935, time 272.5 sec\n",
      "epoch 18, loss 0.0916, train acc 0.966, test acc 0.936, time 272.3 sec\n",
      "epoch 19, loss 0.0832, train acc 0.969, test acc 0.931, time 272.4 sec\n",
      "epoch 20, loss 0.0785, train acc 0.971, test acc 0.935, time 272.9 sec\n",
      "epoch 21, loss 0.0705, train acc 0.975, test acc 0.934, time 272.6 sec\n",
      "epoch 22, loss 0.0632, train acc 0.977, test acc 0.933, time 272.7 sec\n",
      "epoch 23, loss 0.0579, train acc 0.979, test acc 0.935, time 272.9 sec\n",
      "epoch 24, loss 0.0529, train acc 0.980, test acc 0.937, time 272.7 sec\n",
      "epoch 25, loss 0.0505, train acc 0.982, test acc 0.934, time 273.0 sec\n",
      "epoch 26, loss 0.0466, train acc 0.983, test acc 0.938, time 272.9 sec\n",
      "epoch 27, loss 0.0437, train acc 0.984, test acc 0.938, time 273.1 sec\n",
      "epoch 28, loss 0.0408, train acc 0.985, test acc 0.937, time 272.9 sec\n",
      "epoch 29, loss 0.0400, train acc 0.986, test acc 0.938, time 272.6 sec\n",
      "epoch 30, loss 0.0343, train acc 0.988, test acc 0.936, time 272.7 sec\n",
      "epoch 31, loss 0.0321, train acc 0.989, test acc 0.936, time 272.9 sec\n",
      "epoch 32, loss 0.0296, train acc 0.989, test acc 0.937, time 272.7 sec\n",
      "epoch 33, loss 0.0284, train acc 0.990, test acc 0.937, time 272.6 sec\n",
      "epoch 34, loss 0.0255, train acc 0.991, test acc 0.936, time 272.9 sec\n",
      "epoch 35, loss 0.0264, train acc 0.991, test acc 0.937, time 272.8 sec\n",
      "epoch 36, loss 0.0237, train acc 0.992, test acc 0.940, time 272.8 sec\n",
      "epoch 37, loss 0.0215, train acc 0.993, test acc 0.937, time 272.9 sec\n",
      "epoch 38, loss 0.0228, train acc 0.992, test acc 0.937, time 272.8 sec\n",
      "epoch 39, loss 0.0196, train acc 0.993, test acc 0.936, time 272.7 sec\n",
      "epoch 40, loss 0.0161, train acc 0.994, test acc 0.939, time 272.7 sec\n",
      "epoch 41, loss 0.0182, train acc 0.994, test acc 0.937, time 272.7 sec\n",
      "epoch 42, loss 0.0154, train acc 0.995, test acc 0.937, time 272.6 sec\n",
      "epoch 43, loss 0.0156, train acc 0.994, test acc 0.938, time 272.6 sec\n",
      "epoch 44, loss 0.0134, train acc 0.995, test acc 0.936, time 272.5 sec\n",
      "epoch 45, loss 0.0158, train acc 0.994, test acc 0.938, time 272.9 sec\n",
      "epoch 46, loss 0.0135, train acc 0.995, test acc 0.938, time 272.6 sec\n",
      "epoch 47, loss 0.0123, train acc 0.996, test acc 0.938, time 272.8 sec\n",
      "epoch 48, loss 0.0136, train acc 0.995, test acc 0.942, time 272.6 sec\n",
      "epoch 49, loss 0.0117, train acc 0.996, test acc 0.939, time 272.6 sec\n",
      "epoch 50, loss 0.0136, train acc 0.995, test acc 0.940, time 272.6 sec\n",
      "epoch 51, loss 0.0116, train acc 0.996, test acc 0.937, time 272.7 sec\n",
      "epoch 52, loss 0.0135, train acc 0.996, test acc 0.939, time 272.8 sec\n",
      "epoch 53, loss 0.0118, train acc 0.996, test acc 0.938, time 272.6 sec\n",
      "epoch 54, loss 0.0111, train acc 0.996, test acc 0.939, time 272.8 sec\n",
      "epoch 55, loss 0.0106, train acc 0.996, test acc 0.940, time 272.7 sec\n",
      "epoch 56, loss 0.0098, train acc 0.997, test acc 0.938, time 272.6 sec\n",
      "epoch 57, loss 0.0096, train acc 0.997, test acc 0.940, time 272.6 sec\n",
      "epoch 58, loss 0.0090, train acc 0.997, test acc 0.937, time 272.7 sec\n",
      "epoch 59, loss 0.0083, train acc 0.997, test acc 0.937, time 272.8 sec\n",
      "epoch 60, loss 0.0059, train acc 0.998, test acc 0.941, time 272.7 sec\n",
      "epoch 61, loss 0.0089, train acc 0.997, test acc 0.940, time 272.6 sec\n",
      "epoch 62, loss 0.0077, train acc 0.997, test acc 0.940, time 272.6 sec\n",
      "epoch 63, loss 0.0090, train acc 0.997, test acc 0.936, time 272.6 sec\n",
      "epoch 64, loss 0.0090, train acc 0.997, test acc 0.937, time 272.7 sec\n",
      "epoch 65, loss 0.0075, train acc 0.997, test acc 0.938, time 272.5 sec\n",
      "epoch 66, loss 0.0079, train acc 0.997, test acc 0.940, time 272.7 sec\n",
      "epoch 67, loss 0.0067, train acc 0.998, test acc 0.941, time 272.6 sec\n",
      "epoch 68, loss 0.0082, train acc 0.997, test acc 0.940, time 272.6 sec\n",
      "epoch 69, loss 0.0067, train acc 0.998, test acc 0.940, time 272.4 sec\n",
      "epoch 70, loss 0.0056, train acc 0.998, test acc 0.938, time 272.4 sec\n",
      "epoch 71, loss 0.0062, train acc 0.998, test acc 0.937, time 272.8 sec\n",
      "epoch 72, loss 0.0069, train acc 0.998, test acc 0.939, time 272.7 sec\n",
      "epoch 73, loss 0.0056, train acc 0.998, test acc 0.938, time 272.5 sec\n",
      "epoch 74, loss 0.0074, train acc 0.998, test acc 0.940, time 272.7 sec\n",
      "epoch 75, loss 0.0056, train acc 0.998, test acc 0.941, time 272.7 sec\n",
      "epoch 76, loss 0.0041, train acc 0.999, test acc 0.940, time 272.5 sec\n",
      "epoch 77, loss 0.0047, train acc 0.998, test acc 0.941, time 272.6 sec\n",
      "epoch 78, loss 0.0055, train acc 0.998, test acc 0.937, time 272.6 sec\n",
      "epoch 79, loss 0.0069, train acc 0.998, test acc 0.940, time 272.8 sec\n",
      "epoch 80, loss 0.0058, train acc 0.998, test acc 0.938, time 272.7 sec\n",
      "epoch 81, loss 0.0047, train acc 0.998, test acc 0.941, time 272.8 sec\n",
      "epoch 82, loss 0.0050, train acc 0.998, test acc 0.938, time 272.7 sec\n",
      "epoch 83, loss 0.0055, train acc 0.998, test acc 0.939, time 272.7 sec\n",
      "epoch 84, loss 0.0059, train acc 0.998, test acc 0.941, time 272.7 sec\n",
      "epoch 85, loss 0.0043, train acc 0.999, test acc 0.942, time 272.8 sec\n",
      "epoch 86, loss 0.0055, train acc 0.998, test acc 0.939, time 272.6 sec\n",
      "epoch 87, loss 0.0048, train acc 0.998, test acc 0.938, time 272.5 sec\n",
      "epoch 88, loss 0.0057, train acc 0.998, test acc 0.937, time 272.7 sec\n",
      "epoch 89, loss 0.0041, train acc 0.999, test acc 0.936, time 272.6 sec\n",
      "epoch 90, loss 0.0062, train acc 0.998, test acc 0.940, time 272.6 sec\n",
      "epoch 91, loss 0.0054, train acc 0.998, test acc 0.937, time 272.9 sec\n",
      "epoch 92, loss 0.0043, train acc 0.998, test acc 0.939, time 272.8 sec\n",
      "epoch 93, loss 0.0059, train acc 0.998, test acc 0.939, time 272.6 sec\n",
      "epoch 94, loss 0.0047, train acc 0.998, test acc 0.940, time 272.6 sec\n",
      "epoch 95, loss 0.0043, train acc 0.999, test acc 0.940, time 272.7 sec\n",
      "epoch 96, loss 0.0037, train acc 0.999, test acc 0.939, time 272.6 sec\n",
      "epoch 97, loss 0.0045, train acc 0.999, test acc 0.939, time 272.7 sec\n",
      "epoch 98, loss 0.0028, train acc 0.999, test acc 0.939, time 272.6 sec\n",
      "epoch 99, loss 0.0056, train acc 0.998, test acc 0.938, time 272.5 sec\n",
      "epoch 100, loss 0.0046, train acc 0.999, test acc 0.941, time 272.6 sec\n"
     ]
    }
   ],
   "source": [
    "ctx = gb.try_gpu()\n",
    "net.initialize(ctx=ctx, init=init.Xavier())\n",
    "trainer = gluon.Trainer(net.collect_params(), 'sgd', {'learning_rate': 0.05})\n",
    "\n",
    "train_data, test_data = gb.load_data_fashion_mnist(batch_size=90, resize=224)\n",
    "loss = gluon.loss.SoftmaxCrossEntropyLoss()\n",
    "gb.train(train_data, test_data, net, loss, trainer, ctx, num_epochs=100)"
   ]
  },
  {
   "cell_type": "code",
   "execution_count": null,
   "metadata": {},
   "outputs": [],
   "source": []
  }
 ],
 "metadata": {
  "kernelspec": {
   "display_name": "Python 3",
   "language": "python",
   "name": "python3"
  },
  "language_info": {
   "codemirror_mode": {
    "name": "ipython",
    "version": 3
   },
   "file_extension": ".py",
   "mimetype": "text/x-python",
   "name": "python",
   "nbconvert_exporter": "python",
   "pygments_lexer": "ipython3",
   "version": "3.6.5"
  }
 },
 "nbformat": 4,
 "nbformat_minor": 2
}
