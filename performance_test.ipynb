{
 "cells": [
  {
   "cell_type": "code",
   "execution_count": 2,
   "metadata": {
    "collapsed": false
   },
   "outputs": [],
   "source": [
    "import utils\n",
    "\n",
    "batch_size = 255\n",
    "\n",
    "from mxnet import viz, nd\n",
    "\n",
    "import mxnet as mx\n",
    "mx.gpu()\n",
    "\n",
    "\n",
    "\n",
    "\n",
    "\n",
    "import time\n",
    "\n",
    "# a = nd.arange(4000000).reshape(2000, -1)"
   ]
  },
  {
   "cell_type": "code",
   "execution_count": null,
   "metadata": {
    "collapsed": false
   },
   "outputs": [],
   "source": [
    "a = nd.arange(400000000).reshape((20000, -1))\n",
    "start = time.time()\n",
    "b = nd.dot(a, a)\n",
    "b += 1\n",
    "print(b)\n",
    "end = time.time()\n",
    "print('20000 rank matrix multiplication takes:', end - start,'s')\n"
   ]
  },
  {
   "cell_type": "code",
   "execution_count": 1,
   "metadata": {
    "collapsed": false
   },
   "outputs": [
    {
     "name": "stdout",
     "output_type": "stream",
     "text": [
      "\n",
      "[[  6.29899431e+16   6.29899431e+16   6.29899431e+16 ...,   6.29945559e+16\n",
      "    6.29945559e+16   6.29945559e+16]\n",
      " [  1.57477536e+17   1.57477536e+17   1.57477536e+17 ...,   1.57490884e+17\n",
      "    1.57490884e+17   1.57490884e+17]\n",
      " [  2.51964445e+17   2.51964445e+17   2.51964445e+17 ...,   2.51987243e+17\n",
      "    2.51987243e+17   2.51987260e+17]\n",
      " ..., \n",
      " [  1.96983986e+21   1.96983986e+21   1.96983986e+21 ...,   1.97002887e+21\n",
      "    1.97002887e+21   1.97002887e+21]\n",
      " [  1.96993415e+21   1.96993415e+21   1.96993415e+21 ...,   1.97012316e+21\n",
      "    1.97012316e+21   1.97012316e+21]\n",
      " [  1.97002873e+21   1.97002873e+21   1.97002873e+21 ...,   1.97021774e+21\n",
      "    1.97021774e+21   1.97021774e+21]]\n",
      "<NDArray 20850x20850 @gpu(0)>\n",
      "20000 rank matrix multiplication on gpu takes: 3.0323450565338135 s\n"
     ]
    }
   ],
   "source": [
    "import mxnet as mx\n",
    "import time\n",
    "from mxnet import nd\n",
    "rank = 20850\n",
    "a = nd.arange(rank ** 2, ctx=mx.gpu()).reshape((rank, -1))\n",
    "start = time.time()\n",
    "b = nd.dot(a, a)\n",
    "\n",
    "print(b)\n",
    "end = time.time()\n",
    "print('20000 rank matrix multiplication on gpu takes:', end - start,'s')"
   ]
  },
  {
   "cell_type": "code",
   "execution_count": 2,
   "metadata": {
    "collapsed": false
   },
   "outputs": [
    {
     "name": "stdout",
     "output_type": "stream",
     "text": [
      "On branch master\n",
      "Your branch is up-to-date with 'origin/master'.\n",
      "Changes not staged for commit:\n",
      "  (use \"git add <file>...\" to update what will be committed)\n",
      "  (use \"git checkout -- <file>...\" to discard changes in working directory)\n",
      "\n",
      "\tmodified:   performance_test.ipynb\n",
      "\n",
      "no changes added to commit (use \"git add\" and/or \"git commit -a\")\n"
     ]
    }
   ],
   "source": [
    "!git status"
   ]
  },
  {
   "cell_type": "code",
   "execution_count": null,
   "metadata": {
    "collapsed": true
   },
   "outputs": [],
   "source": []
  }
 ],
 "metadata": {
  "kernelspec": {
   "display_name": "Python 3",
   "language": "python",
   "name": "python3"
  },
  "language_info": {
   "codemirror_mode": {
    "name": "ipython",
    "version": 3
   },
   "file_extension": ".py",
   "mimetype": "text/x-python",
   "name": "python",
   "nbconvert_exporter": "python",
   "pygments_lexer": "ipython3",
   "version": "3.6.0"
  }
 },
 "nbformat": 4,
 "nbformat_minor": 2
}
