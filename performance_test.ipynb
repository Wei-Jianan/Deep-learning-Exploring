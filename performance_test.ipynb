{
 "cells": [
  {
   "cell_type": "code",
   "execution_count": 1,
   "metadata": {},
   "outputs": [],
   "source": [
    "import utils"
   ]
  },
  {
   "cell_type": "code",
   "execution_count": 2,
   "metadata": {},
   "outputs": [],
   "source": [
    "batch_size = 255\n",
    "\n",
    "from mxnet import viz, nd"
   ]
  },
  {
   "cell_type": "code",
   "execution_count": 16,
   "metadata": {},
   "outputs": [
    {
     "data": {
      "text/plain": [
       "gpu(0)"
      ]
     },
     "execution_count": 16,
     "metadata": {},
     "output_type": "execute_result"
    }
   ],
   "source": [
    "import mxnet as mx\n",
    "mx.gpu()"
   ]
  },
  {
   "cell_type": "code",
   "execution_count": 11,
   "metadata": {},
   "outputs": [],
   "source": [
    "a = nd.arange(400000000).reshape((20000, -1))"
   ]
  },
  {
   "cell_type": "code",
   "execution_count": 12,
   "metadata": {},
   "outputs": [],
   "source": [
    "a.shape\n",
    "import time\n",
    "\n",
    "# a = nd.arange(4000000).reshape(2000, -1)"
   ]
  },
  {
   "cell_type": "code",
   "execution_count": 14,
   "metadata": {},
   "outputs": [
    {
     "name": "stdout",
     "output_type": "stream",
     "text": [
      "\n",
      "[[  5.33293290e+16   5.33293290e+16   5.33293290e+16 ...,   5.33333276e+16\n",
      "    5.33333276e+16   5.33333276e+16]\n",
      " [  1.33325345e+17   1.33325345e+17   1.33325345e+17 ...,   1.33337346e+17\n",
      "    1.33337346e+17   1.33337346e+17]\n",
      " [  2.13321353e+17   2.13321353e+17   2.13321353e+17 ...,   2.13341299e+17\n",
      "    2.13341299e+17   2.13341299e+17]\n",
      " ..., \n",
      " [  1.59973319e+21   1.59973319e+21   1.59973319e+21 ...,   1.59989349e+21\n",
      "    1.59989349e+21   1.59989349e+21]\n",
      " [  1.59981313e+21   1.59981313e+21   1.59981313e+21 ...,   1.59997315e+21\n",
      "    1.59997315e+21   1.59997315e+21]\n",
      " [  1.59989321e+21   1.59989321e+21   1.59989321e+21 ...,   1.60005323e+21\n",
      "    1.60005323e+21   1.60005323e+21]]\n",
      "<NDArray 20000x20000 @cpu(0)>\n",
      "20000 rank matrix multiplication takes: 45.76805877685547 s\n"
     ]
    }
   ],
   "source": [
    "start = time.time()\n",
    "b = nd.dot(a, a)\n",
    "b += 1\n",
    "print(b)\n",
    "end = time.time()\n",
    "print('20000 rank matrix multiplication takes:', end - start,'s')\n"
   ]
  },
  {
   "cell_type": "code",
   "execution_count": null,
   "metadata": {},
   "outputs": [],
   "source": [
    "\n",
    "a = nd.arange(400000000, ctx=mx.gpu()).reshape((20000, -1))\n",
    "start = time.time()\n",
    "b = nd.dot(a, a)\n",
    "b += 1\n",
    "print(b)\n",
    "end = time.time()\n",
    "print('20000 rank matrix multiplication on gpu takes:', end - start,'s')"
   ]
  }
 ],
 "metadata": {
  "kernelspec": {
   "display_name": "Python 3",
   "language": "python",
   "name": "python3"
  },
  "language_info": {
   "codemirror_mode": {
    "name": "ipython",
    "version": 3
   },
   "file_extension": ".py",
   "mimetype": "text/x-python",
   "name": "python",
   "nbconvert_exporter": "python",
   "pygments_lexer": "ipython3",
   "version": "3.6.5"
  }
 },
 "nbformat": 4,
 "nbformat_minor": 2
}
